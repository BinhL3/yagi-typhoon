{
 "cells": [
  {
   "cell_type": "code",
   "execution_count": 1,
   "id": "76eeb72d-ad4a-4596-8b75-103108f535e6",
   "metadata": {},
   "outputs": [],
   "source": [
    "import pdfplumber\n",
    "import csv"
   ]
  },
  {
   "cell_type": "code",
   "execution_count": 2,
   "id": "405d945c-3b98-4e36-a4ca-99016b37d2e3",
   "metadata": {},
   "outputs": [],
   "source": [
    "pdf = pdfplumber.open(\"mttq_vietcombank_12_9.pdf\")"
   ]
  },
  {
   "cell_type": "code",
   "execution_count": 7,
   "id": "3619f5ed-ddb9-4f0c-a919-f73635c1615c",
   "metadata": {},
   "outputs": [
    {
     "name": "stdout",
     "output_type": "stream",
     "text": [
      "Finished processing.\n"
     ]
    }
   ],
   "source": [
    "import re\n",
    "import csv\n",
    "\n",
    "with open('mttq.csv', 'w', newline='', encoding='utf-8') as csvfile:\n",
    "    fieldnames = ['transaction_code', 'amount', 'transaction_detail']\n",
    "    writer = csv.DictWriter(csvfile, fieldnames=fieldnames)\n",
    "    writer.writeheader()\n",
    "\n",
    "    start = False\n",
    "    current_transaction = None\n",
    "\n",
    "    for page in pdf.pages:  # Process each page in the PDF\n",
    "        text_chunks = page.extract_text().split('\\n')  # Extract text and split by line\n",
    "\n",
    "        for line in text_chunks:\n",
    "            if not start:\n",
    "                if 'Số tài khoản' in line:  # Start processing after 'Số tài khoản'\n",
    "                    start = True\n",
    "                continue  # Skip lines until 'Số tài khoản' is found\n",
    "\n",
    "            # Check if line matches the transaction code pattern\n",
    "            transaction_code_match = re.match(r'^\\\"?([0-9A-Za-z\\.]+)\\.(.+)', line)\n",
    "            if transaction_code_match:\n",
    "                if current_transaction:\n",
    "                    # Write the current transaction to the CSV file\n",
    "                    current_transaction['transaction_detail'] = ' '.join(current_transaction['transaction_detail_lines']).strip()\n",
    "                    writer.writerow({\n",
    "                        'transaction_code': current_transaction.get('transaction_code', ''),\n",
    "                        'amount': current_transaction.get('amount', ''),\n",
    "                        'transaction_detail': current_transaction.get('transaction_detail', '')\n",
    "                    })\n",
    "\n",
    "                # Start a new transaction\n",
    "                current_transaction = {}\n",
    "                transaction_code = transaction_code_match.group(1).replace('.', '')\n",
    "                current_transaction['transaction_code'] = transaction_code\n",
    "                current_transaction['transaction_detail_lines'] = []\n",
    "                transaction_detail_line = transaction_code_match.group(2).strip()\n",
    "                current_transaction['transaction_detail_lines'].append(transaction_detail_line)\n",
    "\n",
    "            else:\n",
    "                # Check if line matches the STT, date, and amount pattern\n",
    "                stt_date_amount_match = re.match(r'^(\\d+)\\s+(\\d{2}/\\d{2}/\\d{4})\\s+([\\d\\.]+)(.*)', line)\n",
    "                if stt_date_amount_match:\n",
    "                    if current_transaction:\n",
    "                        # Store STT, date, and amount for the current transaction\n",
    "                        current_transaction['STT'] = stt_date_amount_match.group(1)\n",
    "                        current_transaction['date'] = stt_date_amount_match.group(2)\n",
    "                        current_transaction['amount'] = stt_date_amount_match.group(3).replace('.', '')  # Remove periods from amount\n",
    "                        remaining_text = stt_date_amount_match.group(4).strip()\n",
    "                        if remaining_text:\n",
    "                            current_transaction['transaction_detail_lines'].append(remaining_text)\n",
    "\n",
    "                else:\n",
    "                    # Append any additional details to the current transaction\n",
    "                    if current_transaction:\n",
    "                        current_transaction['transaction_detail_lines'].append(line.strip())\n",
    "\n",
    "        # After processing all lines on the page, finalize the current transaction\n",
    "        if current_transaction:\n",
    "            current_transaction['transaction_detail'] = ' '.join(current_transaction['transaction_detail_lines']).strip()\n",
    "            writer.writerow({\n",
    "                'transaction_code': current_transaction.get('transaction_code', ''),\n",
    "                'amount': current_transaction.get('amount', ''),\n",
    "                'transaction_detail': current_transaction.get('transaction_detail', '')\n",
    "            })\n",
    "            current_transaction = None  # Reset current transaction\n",
    "\n",
    "print(\"Finished processing.\")\n"
   ]
  }
 ],
 "metadata": {
  "kernelspec": {
   "display_name": "Python 3 (ipykernel)",
   "language": "python",
   "name": "python3"
  },
  "language_info": {
   "codemirror_mode": {
    "name": "ipython",
    "version": 3
   },
   "file_extension": ".py",
   "mimetype": "text/x-python",
   "name": "python",
   "nbconvert_exporter": "python",
   "pygments_lexer": "ipython3",
   "version": "3.12.5"
  }
 },
 "nbformat": 4,
 "nbformat_minor": 5
}
