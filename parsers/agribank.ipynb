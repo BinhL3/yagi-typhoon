{
 "cells": [
  {
   "cell_type": "code",
   "execution_count": 1,
   "id": "5abcec91-06c7-4fdf-b98b-a0ac1f31b744",
   "metadata": {},
   "outputs": [],
   "source": [
    "import pdfplumber\n",
    "import csv"
   ]
  },
  {
   "cell_type": "code",
   "execution_count": 4,
   "id": "b4f6093a-eb9e-4253-ac85-10f9028c35c5",
   "metadata": {},
   "outputs": [],
   "source": [
    "pdf3 = pdfplumber.open(\"mttq_agribank_caobang_10_9-13_9.pdf\")"
   ]
  },
  {
   "cell_type": "code",
   "execution_count": 5,
   "id": "61f8f409-6526-4f1a-94ca-e20f0abd6f22",
   "metadata": {},
   "outputs": [
    {
     "name": "stdout",
     "output_type": "stream",
     "text": [
      "6 ['11/09/2024', 'MB(594274)(unghonhandantinhcaob', 'angkhacphuchauquat', 'hientai) 500,000', '383,653,449', '20240910594274']\n",
      "6 ['11/09/2024', 'DAM THI TAM Foreign Worker\\nSalary:OTT:1545OTT240900431:1Q', 'T:15451QT2409003', '4,000,000\\n32100853260:IMT:0', '680,357,956\\n911243010001235:', '98267749']\n",
      "6 ['11/09/2024', 'MBVCB.7000719123.854978.Ungho\\ntu 1042847454 CHU THI NGUYET\\ntoi 8300333385555 uy Ban Mat Tran\\nTo Quoc VN Tinh Cao Bang tai\\nAGRIBANK', 'NDtinhCaoBangkha', 'cphucthienta2i.0C0T,000', '1,412,771,961', '8656726']\n",
      "100,000\n",
      "6 ['11/09/2024', 'MA_GD:393799969|CASZLP|ZP6R3\\nHo Tin dung Zalopay chuyen tien', 'DRA5COM#230127', '003001970100,000', '3,477,322,682', '191172064']\n",
      "250,000\n",
      "6 ['12/09/2024', 'MBVCB.7010314368.843397.GD\\nNg.V. Thi . Hien-\\nTP.G.PhongG.Thuy.NamDinh-UH.N\\ntu 0331003902964 NGUYEN THI\\nHIEN toi 8300333385555 uy Ban\\nMat Tran To Quoc VN Tinh Cao\\nBang tai AGRIBANK', 'DT.C.Bang.KPTT.C', '3,000,000\\nT', '4,296,359,753', '3162493']\n",
      "150,000\n",
      "6 ['12/09/2024', 'MB(736710)(unghonhandantinhcaob', 'angkhacphuchauquat', 'hientai) 200,000', '7,529,065,235', '20240912736710']\n",
      "6 ['13/09/2024', 'TRUONGTHITHUunghonhandantinh', 'caobangkhacphucha', 'uquathientai200,000', '10,380,055,774', '8112110']\n",
      "6 ['13/09/2024', 'Nongthithuanunghonhandanrinhcaob', 'angkhacphuchauquat', 'hientai 100,000', '10,539,323,773', '8359408']\n",
      "6 ['13/09/2024', 'Hoangvanbacunghonhandantinhcaoba', 'ngkhacphuchauquat', 'hientai 100,000', '10,539,458,773', '8371573']\n"
     ]
    }
   ],
   "source": [
    "import re, json\n",
    "from collections import defaultdict\n",
    "\n",
    "with open('mttq_agri_caobang.csv', 'w', newline='') as csvfile:\n",
    "    fieldnames = ['transaction_code', 'amount', 'transaction_detail',\n",
    "                    # 'test'\n",
    "                 ]\n",
    "    writer = csv.DictWriter(csvfile, fieldnames=fieldnames)\n",
    "    writer.writeheader()\n",
    "\n",
    "    i = 0\n",
    "    for page in pdf3.pages:\n",
    "        # print(page.page_number)\n",
    "        start = False\n",
    "        info = defaultdict(str)\n",
    "        transactions = []\n",
    "        \n",
    "        date = None\n",
    "\n",
    "        raw_transactions = page.extract_table()\n",
    "        raw_transactions = raw_transactions[1:]\n",
    "        # print(raw_transactions)\n",
    "        # break\n",
    "        for record in raw_transactions:\n",
    "            try:\n",
    "                # print(len(record), record)\n",
    "                date, transaction_detail, out, _in, balance, ref_no = record\n",
    "                # print(_id, timestamp, transaction_detail, amount, transaction_code)\n",
    "                if not _in:\n",
    "                    continue\n",
    "                if '|CASZLP|' in transaction_detail:\n",
    "                    # print('CASZLP', len(record), record)\n",
    "                    date, transaction_detail, transaction_detail_part2, transaction_detail_part3_and_in, balance, ref_no = record\n",
    "                    transaction_detal_parts = transaction_detail.split('\\n')\n",
    "                    transaction_detail_part3, _in = transaction_detail_part3_and_in.split(' ')\n",
    "                    print(_in)\n",
    "                    transaction_detail = f'{transaction_detal_parts[0]}{transaction_detail_part2}{transaction_detail_part3} {transaction_detal_parts[1]}'\n",
    "                    amount = int(_in.replace(',', ''))\n",
    "                    # print(amount)\n",
    "                    transactions.append({\n",
    "                        'transaction_detail': f'{date} {transaction_detail}'.replace('\\n', ' '),\n",
    "                        'amount': amount,\n",
    "                        'transaction_code': ref_no,\n",
    "                        # 'id': _id,\n",
    "                        # 'timestamp': timestamp\n",
    "                    })\n",
    "                else:\n",
    "                    amount = int(_in.replace(',', ''))\n",
    "                    transactions.append({\n",
    "                        'transaction_detail': f'{date} {transaction_detail}'.replace('\\n', ' '),\n",
    "                        'amount': amount,\n",
    "                        'transaction_code': ref_no,\n",
    "                        # 'id': _id,\n",
    "                        # 'timestamp': timestamp\n",
    "                    })\n",
    "                # print(_id)\n",
    "                # assert(int(_id) == i + 1)\n",
    "                # i += 1\n",
    "            except Exception as e:\n",
    "                    # print(transactions[-1])\n",
    "                # elif 'Foreign\\nWorker\\nSalary' in transaction_detail:\n",
    "                #     print(len(record), record)\n",
    "                # else:\n",
    "                #     print(transaction_detail)\n",
    "                print(len(record), record)\n",
    "                pass\n",
    "\n",
    "        # print(page, len(transactions))\n",
    "        for row in transactions:\n",
    "            writer.writerow(row)"
   ]
  }
 ],
 "metadata": {
  "kernelspec": {
   "display_name": "Python 3 (ipykernel)",
   "language": "python",
   "name": "python3"
  },
  "language_info": {
   "codemirror_mode": {
    "name": "ipython",
    "version": 3
   },
   "file_extension": ".py",
   "mimetype": "text/x-python",
   "name": "python",
   "nbconvert_exporter": "python",
   "pygments_lexer": "ipython3",
   "version": "3.12.5"
  }
 },
 "nbformat": 4,
 "nbformat_minor": 5
}
